{
  "nbformat": 4,
  "nbformat_minor": 0,
  "metadata": {
    "colab": {
      "provenance": [],
      "mount_file_id": "https://github.com/tara3165/NLP-/blob/CompliantAnalysis/ComplaintAnalysis.ipynb",
      "authorship_tag": "ABX9TyOnwUjYo2B89xHu3nY19m0L",
      "include_colab_link": true
    },
    "kernelspec": {
      "name": "python3",
      "display_name": "Python 3"
    },
    "language_info": {
      "name": "python"
    }
  },
  "cells": [
    {
      "cell_type": "markdown",
      "metadata": {
        "id": "view-in-github",
        "colab_type": "text"
      },
      "source": [
        "<a href=\"https://colab.research.google.com/github/tara3165/NLP-/blob/CompliantAnalysis/ComplaintAnalysis.ipynb\" target=\"_parent\"><img src=\"https://colab.research.google.com/assets/colab-badge.svg\" alt=\"Open In Colab\"/></a>"
      ]
    },
    {
      "cell_type": "code",
      "source": [
        "import pandas as pd\n",
        "x=pd.read_csv('../drive/MyDrive/Colab Notebooks/Complaint/test_data.csv')"
      ],
      "metadata": {
        "id": "iie_rehgD2g1"
      },
      "execution_count": 21,
      "outputs": []
    }
  ]
}