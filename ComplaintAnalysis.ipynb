{
  "nbformat": 4,
  "nbformat_minor": 0,
  "metadata": {
    "colab": {
      "provenance": [],
      "mount_file_id": "https://github.com/tara3165/NLP-/blob/CompliantAnalysis/ComplaintAnalysis.ipynb",
      "authorship_tag": "ABX9TyNnwwXgVAppGALCFiouizXT",
      "include_colab_link": true
    },
    "kernelspec": {
      "name": "python3",
      "display_name": "Python 3"
    },
    "language_info": {
      "name": "python"
    }
  },
  "cells": [
    {
      "cell_type": "markdown",
      "metadata": {
        "id": "view-in-github",
        "colab_type": "text"
      },
      "source": [
        "<a href=\"https://colab.research.google.com/github/tara3165/NLP-/blob/CompliantAnalysis/ComplaintAnalysis.ipynb\" target=\"_parent\"><img src=\"https://colab.research.google.com/assets/colab-badge.svg\" alt=\"Open In Colab\"/></a>"
      ]
    },
    {
      "cell_type": "code",
      "source": [
        "/Colab Notebooks/Complaint"
      ],
      "metadata": {
        "id": "0wG3eG62Tbhn",
        "outputId": "fb054ffb-e306-4d06-da44-197fcd6c2a0d",
        "colab": {
          "base_uri": "https://localhost:8080/"
        }
      },
      "execution_count": 10,
      "outputs": [
        {
          "output_type": "stream",
          "name": "stdout",
          "text": [
            "drive  sample_data\n"
          ]
        }
      ]
    },
    {
      "cell_type": "code",
      "source": [
        "cd drive"
      ],
      "metadata": {
        "id": "vSX-emnQUqt0",
        "outputId": "95e66cc5-2e84-4fe1-8d7c-c25461c86aa5",
        "colab": {
          "base_uri": "https://localhost:8080/"
        }
      },
      "execution_count": 14,
      "outputs": [
        {
          "output_type": "stream",
          "name": "stdout",
          "text": [
            "/content/drive\n"
          ]
        }
      ]
    },
    {
      "cell_type": "code",
      "source": [
        "import pandas as pd\n",
        "x=pd.read_csv('../drive/MyDrive/Colab Notebooks/Complaint/complaints.csv',low_memory=False)"
      ],
      "metadata": {
        "id": "iie_rehgD2g1"
      },
      "execution_count": 18,
      "outputs": []
    },
    {
      "cell_type": "code",
      "source": [
        "x=x[~x['Consumer complaint narrative'].isna()]\n",
        "len(x)"
      ],
      "metadata": {
        "id": "OGgUvoyNWGVs",
        "outputId": "1dd36923-1043-4048-9790-05ce634eaf99",
        "colab": {
          "base_uri": "https://localhost:8080/"
        }
      },
      "execution_count": 27,
      "outputs": [
        {
          "output_type": "execute_result",
          "data": {
            "text/plain": [
              "1685238"
            ]
          },
          "metadata": {},
          "execution_count": 27
        }
      ]
    },
    {
      "cell_type": "code",
      "source": [],
      "metadata": {
        "id": "iKzdkNwCYUZE"
      },
      "execution_count": null,
      "outputs": []
    }
  ]
}